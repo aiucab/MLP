{
  "nbformat": 4,
  "nbformat_minor": 0,
  "metadata": {
    "colab": {
      "name": "MLP.ipynb",
      "provenance": [],
      "include_colab_link": true
    },
    "kernelspec": {
      "name": "python3",
      "display_name": "Python 3"
    }
  },
  "cells": [
    {
      "cell_type": "markdown",
      "metadata": {
        "id": "view-in-github",
        "colab_type": "text"
      },
      "source": [
        "<a href=\"https://colab.research.google.com/github/aiucab/MLP/blob/master/MLP.ipynb\" target=\"_parent\"><img src=\"https://colab.research.google.com/assets/colab-badge.svg\" alt=\"Open In Colab\"/></a>"
      ]
    },
    {
      "cell_type": "markdown",
      "metadata": {
        "id": "sHyQBYhuv2p6",
        "colab_type": "text"
      },
      "source": [
        "# Introducción a la Inteligencia Artificial en Python\n",
        "\n",
        "Mucha gente piensa que hablar sobre inteligencia artificial es hablar de física cuántica o lanzamientos de cohetes, pero nada más allá de la realidad. A lo largo de los años, varias personas se han encargado de programar modelos que faciliten la implementación de los mismo para usos de la vida real."
      ]
    },
    {
      "cell_type": "markdown",
      "metadata": {
        "id": "sG1lvv1hwc16",
        "colab_type": "text"
      },
      "source": [
        "Python está compuesto básicamente en 3 estructuras principales, los paquetes, las clases y los métodos.\n",
        "\n",
        "## Paquetes\n",
        "\n",
        " Suelen ser como grandes cajas que contienen otros paquetes, clases y métodos. Se utilizan para organizar y localizar el código más rápido.\n",
        " Para usarlos se \"importan\" de la siguiente manera.\n",
        " \n",
        "```python\n",
        "  import paquete\n",
        "```\n",
        "\n",
        "o si está dentro de otro paquete\n",
        "\n",
        "```python\n",
        "  from paquete_superior import paquete\n",
        "```\n",
        "\n",
        "Adicionalmente se puede importar un paquete dentro de otro paquete, separando por puntos cada paquete\n",
        "\n",
        "```python\n",
        "  import paquete_superior.paquete\n",
        "```\n",
        "\n",
        "\n",
        "## Clases\n",
        "\n",
        "Las clases suelen ser el esqueleto de un objeto. Los objetos, como en la vida real tienen atributos que los definen y acciones que pueden realizar. Los atributos son variables propias de los objetos y las acciones son métodos dentro del mismo. Se le pueden asignar parámetros a la hora de creación. Para usar un objeto se instancia al paquete que lo contiene\n",
        "\n",
        "```python\n",
        "  paquete.Objeto(parametros)\n",
        "```\n",
        "\n",
        "o se importa de una vez del paquete\n",
        "\n",
        "```python\n",
        "  from paquete import Objeto\n",
        "```\n",
        "\n",
        "## Métodos\n",
        "\n",
        "Son rutinas que simplifican la realización de una acción repetible. Se le pueden pasar parámetros y como los objetos se instancia su  paquete o se importa del mismo"
      ]
    },
    {
      "cell_type": "markdown",
      "metadata": {
        "id": "gxKvc6kyzaHG",
        "colab_type": "text"
      },
      "source": [
        "Para el primer ejemplo, se importa la clase *MLPCLassifier* desde el paquete *sklearn.neural_network.multilayer_perceptron*. Esta clase permite crear un perceptron multicapa que clasifique valores de entrada.\n",
        "\n",
        "Adicionalmente se importa *numpy*, un paquete que ayuda con operaciones de álgebra lineal, y se le asigna un alias *np* que ayudará a simplificar su uso. "
      ]
    },
    {
      "cell_type": "code",
      "metadata": {
        "id": "9XxnmrVeQYdK",
        "colab_type": "code",
        "colab": {}
      },
      "source": [
        "from sklearn.neural_network.multilayer_perceptron import MLPClassifier as mlp\n",
        "import numpy as np"
      ],
      "execution_count": 0,
      "outputs": []
    },
    {
      "cell_type": "markdown",
      "metadata": {
        "id": "vVkY3j-hz9YS",
        "colab_type": "text"
      },
      "source": [
        "A veces se tienen dudas al respecto de lo que hace una función, clase o paquete, para ello, Python tiene un método predefinido *help(duda)* que muestra la documentación perteneciente a cualquiera de las estructuras mencionadas siempre y cuando exista la misma.\n",
        "\n",
        "A continuación se le realiza help al MLPClassifier"
      ]
    },
    {
      "cell_type": "code",
      "metadata": {
        "id": "ZxpXrd2AQjkk",
        "colab_type": "code",
        "outputId": "de55a810-3dc1-4162-9fa3-e42fe16dcc18",
        "colab": {
          "base_uri": "https://localhost:8080/",
          "height": 1000
        }
      },
      "source": [
        "help(mlp)"
      ],
      "execution_count": 0,
      "outputs": [
        {
          "output_type": "stream",
          "text": [
            "Help on class MLPClassifier in module sklearn.neural_network.multilayer_perceptron:\n",
            "\n",
            "class MLPClassifier(BaseMultilayerPerceptron, sklearn.base.ClassifierMixin)\n",
            " |  Multi-layer Perceptron classifier.\n",
            " |  \n",
            " |  This model optimizes the log-loss function using LBFGS or stochastic\n",
            " |  gradient descent.\n",
            " |  \n",
            " |  .. versionadded:: 0.18\n",
            " |  \n",
            " |  Parameters\n",
            " |  ----------\n",
            " |  hidden_layer_sizes : tuple, length = n_layers - 2, default (100,)\n",
            " |      The ith element represents the number of neurons in the ith\n",
            " |      hidden layer.\n",
            " |  \n",
            " |  activation : {'identity', 'logistic', 'tanh', 'relu'}, default 'relu'\n",
            " |      Activation function for the hidden layer.\n",
            " |  \n",
            " |      - 'identity', no-op activation, useful to implement linear bottleneck,\n",
            " |        returns f(x) = x\n",
            " |  \n",
            " |      - 'logistic', the logistic sigmoid function,\n",
            " |        returns f(x) = 1 / (1 + exp(-x)).\n",
            " |  \n",
            " |      - 'tanh', the hyperbolic tan function,\n",
            " |        returns f(x) = tanh(x).\n",
            " |  \n",
            " |      - 'relu', the rectified linear unit function,\n",
            " |        returns f(x) = max(0, x)\n",
            " |  \n",
            " |  solver : {'lbfgs', 'sgd', 'adam'}, default 'adam'\n",
            " |      The solver for weight optimization.\n",
            " |  \n",
            " |      - 'lbfgs' is an optimizer in the family of quasi-Newton methods.\n",
            " |  \n",
            " |      - 'sgd' refers to stochastic gradient descent.\n",
            " |  \n",
            " |      - 'adam' refers to a stochastic gradient-based optimizer proposed\n",
            " |        by Kingma, Diederik, and Jimmy Ba\n",
            " |  \n",
            " |      Note: The default solver 'adam' works pretty well on relatively\n",
            " |      large datasets (with thousands of training samples or more) in terms of\n",
            " |      both training time and validation score.\n",
            " |      For small datasets, however, 'lbfgs' can converge faster and perform\n",
            " |      better.\n",
            " |  \n",
            " |  alpha : float, optional, default 0.0001\n",
            " |      L2 penalty (regularization term) parameter.\n",
            " |  \n",
            " |  batch_size : int, optional, default 'auto'\n",
            " |      Size of minibatches for stochastic optimizers.\n",
            " |      If the solver is 'lbfgs', the classifier will not use minibatch.\n",
            " |      When set to \"auto\", `batch_size=min(200, n_samples)`\n",
            " |  \n",
            " |  learning_rate : {'constant', 'invscaling', 'adaptive'}, default 'constant'\n",
            " |      Learning rate schedule for weight updates.\n",
            " |  \n",
            " |      - 'constant' is a constant learning rate given by\n",
            " |        'learning_rate_init'.\n",
            " |  \n",
            " |      - 'invscaling' gradually decreases the learning rate at each\n",
            " |        time step 't' using an inverse scaling exponent of 'power_t'.\n",
            " |        effective_learning_rate = learning_rate_init / pow(t, power_t)\n",
            " |  \n",
            " |      - 'adaptive' keeps the learning rate constant to\n",
            " |        'learning_rate_init' as long as training loss keeps decreasing.\n",
            " |        Each time two consecutive epochs fail to decrease training loss by at\n",
            " |        least tol, or fail to increase validation score by at least tol if\n",
            " |        'early_stopping' is on, the current learning rate is divided by 5.\n",
            " |  \n",
            " |      Only used when ``solver='sgd'``.\n",
            " |  \n",
            " |  learning_rate_init : double, optional, default 0.001\n",
            " |      The initial learning rate used. It controls the step-size\n",
            " |      in updating the weights. Only used when solver='sgd' or 'adam'.\n",
            " |  \n",
            " |  power_t : double, optional, default 0.5\n",
            " |      The exponent for inverse scaling learning rate.\n",
            " |      It is used in updating effective learning rate when the learning_rate\n",
            " |      is set to 'invscaling'. Only used when solver='sgd'.\n",
            " |  \n",
            " |  max_iter : int, optional, default 200\n",
            " |      Maximum number of iterations. The solver iterates until convergence\n",
            " |      (determined by 'tol') or this number of iterations. For stochastic\n",
            " |      solvers ('sgd', 'adam'), note that this determines the number of epochs\n",
            " |      (how many times each data point will be used), not the number of\n",
            " |      gradient steps.\n",
            " |  \n",
            " |  shuffle : bool, optional, default True\n",
            " |      Whether to shuffle samples in each iteration. Only used when\n",
            " |      solver='sgd' or 'adam'.\n",
            " |  \n",
            " |  random_state : int, RandomState instance or None, optional, default None\n",
            " |      If int, random_state is the seed used by the random number generator;\n",
            " |      If RandomState instance, random_state is the random number generator;\n",
            " |      If None, the random number generator is the RandomState instance used\n",
            " |      by `np.random`.\n",
            " |  \n",
            " |  tol : float, optional, default 1e-4\n",
            " |      Tolerance for the optimization. When the loss or score is not improving\n",
            " |      by at least ``tol`` for ``n_iter_no_change`` consecutive iterations,\n",
            " |      unless ``learning_rate`` is set to 'adaptive', convergence is\n",
            " |      considered to be reached and training stops.\n",
            " |  \n",
            " |  verbose : bool, optional, default False\n",
            " |      Whether to print progress messages to stdout.\n",
            " |  \n",
            " |  warm_start : bool, optional, default False\n",
            " |      When set to True, reuse the solution of the previous\n",
            " |      call to fit as initialization, otherwise, just erase the\n",
            " |      previous solution. See :term:`the Glossary <warm_start>`.\n",
            " |  \n",
            " |  momentum : float, default 0.9\n",
            " |      Momentum for gradient descent update. Should be between 0 and 1. Only\n",
            " |      used when solver='sgd'.\n",
            " |  \n",
            " |  nesterovs_momentum : boolean, default True\n",
            " |      Whether to use Nesterov's momentum. Only used when solver='sgd' and\n",
            " |      momentum > 0.\n",
            " |  \n",
            " |  early_stopping : bool, default False\n",
            " |      Whether to use early stopping to terminate training when validation\n",
            " |      score is not improving. If set to true, it will automatically set\n",
            " |      aside 10% of training data as validation and terminate training when\n",
            " |      validation score is not improving by at least tol for\n",
            " |      ``n_iter_no_change`` consecutive epochs. The split is stratified,\n",
            " |      except in a multilabel setting.\n",
            " |      Only effective when solver='sgd' or 'adam'\n",
            " |  \n",
            " |  validation_fraction : float, optional, default 0.1\n",
            " |      The proportion of training data to set aside as validation set for\n",
            " |      early stopping. Must be between 0 and 1.\n",
            " |      Only used if early_stopping is True\n",
            " |  \n",
            " |  beta_1 : float, optional, default 0.9\n",
            " |      Exponential decay rate for estimates of first moment vector in adam,\n",
            " |      should be in [0, 1). Only used when solver='adam'\n",
            " |  \n",
            " |  beta_2 : float, optional, default 0.999\n",
            " |      Exponential decay rate for estimates of second moment vector in adam,\n",
            " |      should be in [0, 1). Only used when solver='adam'\n",
            " |  \n",
            " |  epsilon : float, optional, default 1e-8\n",
            " |      Value for numerical stability in adam. Only used when solver='adam'\n",
            " |  \n",
            " |  n_iter_no_change : int, optional, default 10\n",
            " |      Maximum number of epochs to not meet ``tol`` improvement.\n",
            " |      Only effective when solver='sgd' or 'adam'\n",
            " |  \n",
            " |      .. versionadded:: 0.20\n",
            " |  \n",
            " |  Attributes\n",
            " |  ----------\n",
            " |  classes_ : array or list of array of shape (n_classes,)\n",
            " |      Class labels for each output.\n",
            " |  \n",
            " |  loss_ : float\n",
            " |      The current loss computed with the loss function.\n",
            " |  \n",
            " |  coefs_ : list, length n_layers - 1\n",
            " |      The ith element in the list represents the weight matrix corresponding\n",
            " |      to layer i.\n",
            " |  \n",
            " |  intercepts_ : list, length n_layers - 1\n",
            " |      The ith element in the list represents the bias vector corresponding to\n",
            " |      layer i + 1.\n",
            " |  \n",
            " |  n_iter_ : int,\n",
            " |      The number of iterations the solver has ran.\n",
            " |  \n",
            " |  n_layers_ : int\n",
            " |      Number of layers.\n",
            " |  \n",
            " |  n_outputs_ : int\n",
            " |      Number of outputs.\n",
            " |  \n",
            " |  out_activation_ : string\n",
            " |      Name of the output activation function.\n",
            " |  \n",
            " |  Notes\n",
            " |  -----\n",
            " |  MLPClassifier trains iteratively since at each time step\n",
            " |  the partial derivatives of the loss function with respect to the model\n",
            " |  parameters are computed to update the parameters.\n",
            " |  \n",
            " |  It can also have a regularization term added to the loss function\n",
            " |  that shrinks model parameters to prevent overfitting.\n",
            " |  \n",
            " |  This implementation works with data represented as dense numpy arrays or\n",
            " |  sparse scipy arrays of floating point values.\n",
            " |  \n",
            " |  References\n",
            " |  ----------\n",
            " |  Hinton, Geoffrey E.\n",
            " |      \"Connectionist learning procedures.\" Artificial intelligence 40.1\n",
            " |      (1989): 185-234.\n",
            " |  \n",
            " |  Glorot, Xavier, and Yoshua Bengio. \"Understanding the difficulty of\n",
            " |      training deep feedforward neural networks.\" International Conference\n",
            " |      on Artificial Intelligence and Statistics. 2010.\n",
            " |  \n",
            " |  He, Kaiming, et al. \"Delving deep into rectifiers: Surpassing human-level\n",
            " |      performance on imagenet classification.\" arXiv preprint\n",
            " |      arXiv:1502.01852 (2015).\n",
            " |  \n",
            " |  Kingma, Diederik, and Jimmy Ba. \"Adam: A method for stochastic\n",
            " |      optimization.\" arXiv preprint arXiv:1412.6980 (2014).\n",
            " |  \n",
            " |  Method resolution order:\n",
            " |      MLPClassifier\n",
            " |      BaseMultilayerPerceptron\n",
            " |      sklearn.base.BaseEstimator\n",
            " |      sklearn.base.ClassifierMixin\n",
            " |      builtins.object\n",
            " |  \n",
            " |  Methods defined here:\n",
            " |  \n",
            " |  __init__(self, hidden_layer_sizes=(100,), activation='relu', solver='adam', alpha=0.0001, batch_size='auto', learning_rate='constant', learning_rate_init=0.001, power_t=0.5, max_iter=200, shuffle=True, random_state=None, tol=0.0001, verbose=False, warm_start=False, momentum=0.9, nesterovs_momentum=True, early_stopping=False, validation_fraction=0.1, beta_1=0.9, beta_2=0.999, epsilon=1e-08, n_iter_no_change=10)\n",
            " |      Initialize self.  See help(type(self)) for accurate signature.\n",
            " |  \n",
            " |  fit(self, X, y)\n",
            " |      Fit the model to data matrix X and target(s) y.\n",
            " |      \n",
            " |      Parameters\n",
            " |      ----------\n",
            " |      X : array-like or sparse matrix, shape (n_samples, n_features)\n",
            " |          The input data.\n",
            " |      \n",
            " |      y : array-like, shape (n_samples,) or (n_samples, n_outputs)\n",
            " |          The target values (class labels in classification, real numbers in\n",
            " |          regression).\n",
            " |      \n",
            " |      Returns\n",
            " |      -------\n",
            " |      self : returns a trained MLP model.\n",
            " |  \n",
            " |  predict(self, X)\n",
            " |      Predict using the multi-layer perceptron classifier\n",
            " |      \n",
            " |      Parameters\n",
            " |      ----------\n",
            " |      X : {array-like, sparse matrix}, shape (n_samples, n_features)\n",
            " |          The input data.\n",
            " |      \n",
            " |      Returns\n",
            " |      -------\n",
            " |      y : array-like, shape (n_samples,) or (n_samples, n_classes)\n",
            " |          The predicted classes.\n",
            " |  \n",
            " |  predict_log_proba(self, X)\n",
            " |      Return the log of probability estimates.\n",
            " |      \n",
            " |      Parameters\n",
            " |      ----------\n",
            " |      X : array-like, shape (n_samples, n_features)\n",
            " |          The input data.\n",
            " |      \n",
            " |      Returns\n",
            " |      -------\n",
            " |      log_y_prob : array-like, shape (n_samples, n_classes)\n",
            " |          The predicted log-probability of the sample for each class\n",
            " |          in the model, where classes are ordered as they are in\n",
            " |          `self.classes_`. Equivalent to log(predict_proba(X))\n",
            " |  \n",
            " |  predict_proba(self, X)\n",
            " |      Probability estimates.\n",
            " |      \n",
            " |      Parameters\n",
            " |      ----------\n",
            " |      X : {array-like, sparse matrix}, shape (n_samples, n_features)\n",
            " |          The input data.\n",
            " |      \n",
            " |      Returns\n",
            " |      -------\n",
            " |      y_prob : array-like, shape (n_samples, n_classes)\n",
            " |          The predicted probability of the sample for each class in the\n",
            " |          model, where classes are ordered as they are in `self.classes_`.\n",
            " |  \n",
            " |  ----------------------------------------------------------------------\n",
            " |  Data descriptors defined here:\n",
            " |  \n",
            " |  partial_fit\n",
            " |      Update the model with a single iteration over the given data.\n",
            " |      \n",
            " |      Parameters\n",
            " |      ----------\n",
            " |      X : {array-like, sparse matrix}, shape (n_samples, n_features)\n",
            " |          The input data.\n",
            " |      \n",
            " |      y : array-like, shape (n_samples,)\n",
            " |          The target values.\n",
            " |      \n",
            " |      classes : array, shape (n_classes), default None\n",
            " |          Classes across all calls to partial_fit.\n",
            " |          Can be obtained via `np.unique(y_all)`, where y_all is the\n",
            " |          target vector of the entire dataset.\n",
            " |          This argument is required for the first call to partial_fit\n",
            " |          and can be omitted in the subsequent calls.\n",
            " |          Note that y doesn't need to contain all labels in `classes`.\n",
            " |      \n",
            " |      Returns\n",
            " |      -------\n",
            " |      self : returns a trained MLP model.\n",
            " |  \n",
            " |  ----------------------------------------------------------------------\n",
            " |  Data and other attributes defined here:\n",
            " |  \n",
            " |  __abstractmethods__ = frozenset()\n",
            " |  \n",
            " |  ----------------------------------------------------------------------\n",
            " |  Methods inherited from sklearn.base.BaseEstimator:\n",
            " |  \n",
            " |  __getstate__(self)\n",
            " |  \n",
            " |  __repr__(self, N_CHAR_MAX=700)\n",
            " |      Return repr(self).\n",
            " |  \n",
            " |  __setstate__(self, state)\n",
            " |  \n",
            " |  get_params(self, deep=True)\n",
            " |      Get parameters for this estimator.\n",
            " |      \n",
            " |      Parameters\n",
            " |      ----------\n",
            " |      deep : boolean, optional\n",
            " |          If True, will return the parameters for this estimator and\n",
            " |          contained subobjects that are estimators.\n",
            " |      \n",
            " |      Returns\n",
            " |      -------\n",
            " |      params : mapping of string to any\n",
            " |          Parameter names mapped to their values.\n",
            " |  \n",
            " |  set_params(self, **params)\n",
            " |      Set the parameters of this estimator.\n",
            " |      \n",
            " |      The method works on simple estimators as well as on nested objects\n",
            " |      (such as pipelines). The latter have parameters of the form\n",
            " |      ``<component>__<parameter>`` so that it's possible to update each\n",
            " |      component of a nested object.\n",
            " |      \n",
            " |      Returns\n",
            " |      -------\n",
            " |      self\n",
            " |  \n",
            " |  ----------------------------------------------------------------------\n",
            " |  Data descriptors inherited from sklearn.base.BaseEstimator:\n",
            " |  \n",
            " |  __dict__\n",
            " |      dictionary for instance variables (if defined)\n",
            " |  \n",
            " |  __weakref__\n",
            " |      list of weak references to the object (if defined)\n",
            " |  \n",
            " |  ----------------------------------------------------------------------\n",
            " |  Methods inherited from sklearn.base.ClassifierMixin:\n",
            " |  \n",
            " |  score(self, X, y, sample_weight=None)\n",
            " |      Returns the mean accuracy on the given test data and labels.\n",
            " |      \n",
            " |      In multi-label classification, this is the subset accuracy\n",
            " |      which is a harsh metric since you require for each sample that\n",
            " |      each label set be correctly predicted.\n",
            " |      \n",
            " |      Parameters\n",
            " |      ----------\n",
            " |      X : array-like, shape = (n_samples, n_features)\n",
            " |          Test samples.\n",
            " |      \n",
            " |      y : array-like, shape = (n_samples) or (n_samples, n_outputs)\n",
            " |          True labels for X.\n",
            " |      \n",
            " |      sample_weight : array-like, shape = [n_samples], optional\n",
            " |          Sample weights.\n",
            " |      \n",
            " |      Returns\n",
            " |      -------\n",
            " |      score : float\n",
            " |          Mean accuracy of self.predict(X) wrt. y.\n",
            "\n"
          ],
          "name": "stdout"
        }
      ]
    },
    {
      "cell_type": "markdown",
      "metadata": {
        "id": "PKtPK8dT0tXy",
        "colab_type": "text"
      },
      "source": [
        "A partir de help y leyendo la documentación se sabe que MPLClassifier, recibe muchísimos parámetros para su uso, pero solo nos va a importar para este ejemplo 2, hidden_layer_sizes y solver.\n",
        "\n",
        "*hidden_layer_sizes* establece la estructura de la red neuronal, los mejores resultados han sido dados por 3 neuronas en la primera capa oculta y 2 en la segunda, pero es posible que si se aumentan el número de datos esta arquitectura se quede corta.\n",
        "\n",
        "*solver* establece el algoritmo para corregir el error, lo que humanamente se llama *aprendizaje*. Se escogió Newton porque converge rápido y va muy bien con pocos datos."
      ]
    },
    {
      "cell_type": "code",
      "metadata": {
        "id": "CtuCcdkdRCSs",
        "colab_type": "code",
        "colab": {}
      },
      "source": [
        "nn = mlp(hidden_layer_sizes=(3,2), solver = 'lbfgs')"
      ],
      "execution_count": 0,
      "outputs": []
    },
    {
      "cell_type": "markdown",
      "metadata": {
        "id": "uel9FsIz1rkI",
        "colab_type": "text"
      },
      "source": [
        "Cuando se quiere que una variable sea como un contenedor de variables se crea una lista, las cuales se reconocen por tener corchetes []. \n",
        "\n",
        "La representación de los colores se hizo con una lista de listas con valores de entre 0 y 255. \n",
        "\n",
        "Por otra parte las soluciones se indicaron con una lista de textos con el nombre oficial del color.\n",
        "\n",
        "Para trabajar con RN lo mejor es normalizar las entradas, es decir, que los valores estén entre 0 y 1. Así que había que dividir la lista de lista de colores entre 255, pero las listas no tienen tal posibilidad. Así que se usa una librería de aljebra lineal como numpy. \n",
        "\n",
        "Numpy, convierte esa lista de lista en un tensor (vector n dimensional) al cual se le puede aplicar cualquier operación matemática válida para vectores como suma, multiplicación punto, vectorial, escalar, inversa, transpuesta, etc."
      ]
    },
    {
      "cell_type": "code",
      "metadata": {
        "id": "yN9ZX91v0ruS",
        "colab_type": "code",
        "colab": {}
      },
      "source": [
        "colores = np.array([[0,0,0],[255,255,255],[255,0,0],[0,0,255],[0,255,0],[255,255,0],[255,0,255],[59,179,123],[185,167,37],[25,181,255]])/255\n",
        "fuente = ['Negro', 'Blanco', 'Rojo', 'Azul', 'Verde', 'Amarillo', 'Morado', 'Verde','Amarillo','Azul']\n"
      ],
      "execution_count": 0,
      "outputs": []
    },
    {
      "cell_type": "markdown",
      "metadata": {
        "id": "7r6621Ub29iI",
        "colab_type": "text"
      },
      "source": [
        "La red hay que entrenarla, para ello se le dan los colores y la respuesta que debería ver"
      ]
    },
    {
      "cell_type": "code",
      "metadata": {
        "id": "JJFHew_32_mI",
        "colab_type": "code",
        "outputId": "34e1e204-60f7-4d40-df83-08e01d95915b",
        "colab": {
          "base_uri": "https://localhost:8080/",
          "height": 136
        }
      },
      "source": [
        "nn.fit(colores, fuente)"
      ],
      "execution_count": 0,
      "outputs": [
        {
          "output_type": "execute_result",
          "data": {
            "text/plain": [
              "MLPClassifier(activation='relu', alpha=0.0001, batch_size='auto', beta_1=0.9,\n",
              "              beta_2=0.999, early_stopping=False, epsilon=1e-08,\n",
              "              hidden_layer_sizes=(3, 2), learning_rate='constant',\n",
              "              learning_rate_init=0.001, max_iter=200, momentum=0.9,\n",
              "              n_iter_no_change=10, nesterovs_momentum=True, power_t=0.5,\n",
              "              random_state=None, shuffle=True, solver='lbfgs', tol=0.0001,\n",
              "              validation_fraction=0.1, verbose=False, warm_start=False)"
            ]
          },
          "metadata": {
            "tags": []
          },
          "execution_count": 5
        }
      ]
    },
    {
      "cell_type": "markdown",
      "metadata": {
        "id": "8SV6Tna12xSR",
        "colab_type": "text"
      },
      "source": [
        "Se hizo un pequeño método que dado unos colores, crea una lista con ellos"
      ]
    },
    {
      "cell_type": "code",
      "metadata": {
        "id": "g1AkrtPeXfu3",
        "colab_type": "code",
        "colab": {}
      },
      "source": [
        "def rgb(r,g,b):\n",
        "  return [r,g,b]"
      ],
      "execution_count": 0,
      "outputs": []
    },
    {
      "cell_type": "markdown",
      "metadata": {
        "id": "-HiCtZ8B3LnP",
        "colab_type": "text"
      },
      "source": [
        "Finalmente vemos la salida que arroja para un color"
      ]
    },
    {
      "cell_type": "code",
      "metadata": {
        "id": "3gPy4ICtXWIx",
        "colab_type": "code",
        "outputId": "0cf4b478-df4b-422d-e3f2-6fc66be2242d",
        "colab": {
          "base_uri": "https://localhost:8080/",
          "height": 34
        }
      },
      "source": [
        "print(nn.predict(np.array([rgb(0, 107, 158)])/255))"
      ],
      "execution_count": 0,
      "outputs": [
        {
          "output_type": "stream",
          "text": [
            "['Azul']\n"
          ],
          "name": "stdout"
        }
      ]
    }
  ]
}